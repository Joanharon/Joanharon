{
  "nbformat": 4,
  "nbformat_minor": 0,
  "metadata": {
    "colab": {
      "name": "Copy of Python Programming: Lists",
      "provenance": [],
      "collapsed_sections": [
        "YfJpi7DB5b1G",
        "m6MMTVzP76zo",
        "HKfD8HjY5cmv",
        "qAB7efGz8GL9",
        "p4UR_FuR5qLx",
        "H3Z5_lcs8XNH",
        "cCvsMHqK5fUn",
        "1qG1ecRh8mC9",
        "Fs8XTeN45iFS",
        "SJmtZJu48z-Q",
        "QIPUN0KJ5mdp",
        "5WwBTWk58-Nj"
      ],
      "toc_visible": true,
      "include_colab_link": true
    },
    "kernelspec": {
      "name": "python3",
      "display_name": "Python 3"
    }
  },
  "cells": [
    {
      "cell_type": "markdown",
      "metadata": {
        "id": "view-in-github",
        "colab_type": "text"
      },
      "source": [
        "<a href=\"https://colab.research.google.com/github/Joanharon/Joanharon/blob/main/Copy_of_Python_Programming_Lists.ipynb\" target=\"_parent\"><img src=\"https://colab.research.google.com/assets/colab-badge.svg\" alt=\"Open In Colab\"/></a>"
      ]
    },
    {
      "cell_type": "markdown",
      "metadata": {
        "id": "wbJA7xUzEy9k"
      },
      "source": [
        "<font color=\"green\">*To start working on this notebook, or any other notebook that we will use in the Moringa Data Science Course, we will need to save our own copy of it. We can do this by clicking File > Save a Copy in Drive. We will then be able to make edits to our own copy of this notebook.*</font>"
      ]
    },
    {
      "cell_type": "markdown",
      "metadata": {
        "id": "gaWkCnZQ5Sbx"
      },
      "source": [
        "# Python Programming: Lists"
      ]
    },
    {
      "cell_type": "markdown",
      "metadata": {
        "id": "YfJpi7DB5b1G"
      },
      "source": [
        "## 1.0 Creating a List"
      ]
    },
    {
      "cell_type": "code",
      "metadata": {
        "id": "S1JygPfZ6_LB",
        "colab": {
          "base_uri": "https://localhost:8080/"
        },
        "outputId": "851d1478-66a4-457e-ade6-18bcf76d63c6"
      },
      "source": [
        "# Example 1\n",
        "# Lists can be created by placing a sequence inside square brackets.\n",
        "# They are ordered and changeable and can also contain duplicate items.\n",
        "# We will start to create a list called fruits\n",
        "#\n",
        "fruits = [\"bananas\", \"grapes\", \"mangoes\"]\n",
        "print(fruits)\n",
        "\n",
        "# In python, elements in a list are referenced using indices. Indices (singular: index) are number used to tell the position of an elment in a list. The first element in  a list is assigned an index of 0. \n",
        "# For example in the list we created, bananas is at index 0 and mangoes is at index 2. \n",
        "# Indices are very important especially when we want to update, delete or access items in a list."
      ],
      "execution_count": 2,
      "outputs": [
        {
          "output_type": "stream",
          "text": [
            "['bananas', 'grapes', 'mangoes']\n"
          ],
          "name": "stdout"
        }
      ]
    },
    {
      "cell_type": "code",
      "metadata": {
        "id": "VTtUQP6zzVDw",
        "colab": {
          "base_uri": "https://localhost:8080/"
        },
        "outputId": "33a00273-d73a-4c61-8b06-ec9ba2798328"
      },
      "source": [
        "# Example 2\n",
        "# We will also create a list called kenyan_football_players\n",
        "#\n",
        "kenyan_football_players = [\"Victor Wanyama\", \"Michael Olunga\", \"McDonald Mariga\"]\n",
        "print(kenyan_football_players)"
      ],
      "execution_count": 3,
      "outputs": [
        {
          "output_type": "stream",
          "text": [
            "['Victor Wanyama', 'Michael Olunga', 'McDonald Mariga']\n"
          ],
          "name": "stdout"
        }
      ]
    },
    {
      "cell_type": "code",
      "metadata": {
        "id": "dW9hKVZRzdJv",
        "colab": {
          "base_uri": "https://localhost:8080/"
        },
        "outputId": "3a5606f5-0ad9-4547-9af7-279b09f63214"
      },
      "source": [
        "# Example 3\n",
        "# And lastly, create a list called kenyan cities\n",
        "#\n",
        "kenyan_cities = [\"Nairobi\", \"Mombasa\", \"Kisumu\"]\n",
        "print(kenyan_cities)"
      ],
      "execution_count": 4,
      "outputs": [
        {
          "output_type": "stream",
          "text": [
            "['Nairobi', 'Mombasa', 'Kisumu']\n"
          ],
          "name": "stdout"
        }
      ]
    },
    {
      "cell_type": "markdown",
      "metadata": {
        "id": "m6MMTVzP76zo"
      },
      "source": [
        "### <font color=\"green\">1.1 Challenges</font>"
      ]
    },
    {
      "cell_type": "code",
      "metadata": {
        "id": "0dhSpupB72TX",
        "colab": {
          "base_uri": "https://localhost:8080/"
        },
        "outputId": "2120982b-1aeb-4b41-cfd7-9d69e3d60dd8"
      },
      "source": [
        "# Challenge 1: \n",
        "# Let's create a list of 3 counties in Kenya and then print out the list below;\n",
        "# \n",
        "counties = [\"Kisumu\" , \"Kakamega\" , \"Kisii\"] \n",
        "print(counties)"
      ],
      "execution_count": 5,
      "outputs": [
        {
          "output_type": "stream",
          "text": [
            "['Kisumu', 'Kakamega', 'Kisii']\n"
          ],
          "name": "stdout"
        }
      ]
    },
    {
      "cell_type": "code",
      "metadata": {
        "id": "yclsB_-Z74U6",
        "colab": {
          "base_uri": "https://localhost:8080/"
        },
        "outputId": "b5ecf6e0-e94b-40d2-d0d7-48c3db9f310e"
      },
      "source": [
        "# Challenge 2: \n",
        "# Create a list of 5 African presidents and print out the list below;\n",
        "# \n",
        "African_presidents = [\"Uhuru Kenyatta\" , \"Yoweri Museveni\" , \"Paul Biya\" , \"Joseph Kabila\" , \"Adama Barrow\"] \n",
        "print(African_presidents)"
      ],
      "execution_count": 6,
      "outputs": [
        {
          "output_type": "stream",
          "text": [
            "['Uhuru Kenyatta', 'Yoweri Museveni', 'Paul Biya', 'Joseph Kabila', 'Adama Barrow']\n"
          ],
          "name": "stdout"
        }
      ]
    },
    {
      "cell_type": "code",
      "metadata": {
        "id": "pjqd1Qqf8BRT",
        "colab": {
          "base_uri": "https://localhost:8080/"
        },
        "outputId": "7c6375f6-a122-4d69-9e2a-689813265516"
      },
      "source": [
        "# Challenge 3: \n",
        "# Create a list of 5 members of your moringa class and print out the list;\n",
        "#\n",
        "Moringa_class = [\"Natasha Gwena\" , \"Claire Maina\" , \"Angelo Sang\" , \"Kipsang Mutai\" ,\"Nigel Matalanga\"]\n",
        "print(Moringa_class)"
      ],
      "execution_count": 7,
      "outputs": [
        {
          "output_type": "stream",
          "text": [
            "['Natasha Gwena', 'Claire Maina', 'Angelo Sang', 'Kipsang Mutai', 'Nigel Matalanga']\n"
          ],
          "name": "stdout"
        }
      ]
    },
    {
      "cell_type": "markdown",
      "metadata": {
        "id": "HKfD8HjY5cmv"
      },
      "source": [
        "## 1.2 Adding Elements to a List"
      ]
    },
    {
      "cell_type": "code",
      "metadata": {
        "id": "TmyVQVnD7cO3",
        "colab": {
          "base_uri": "https://localhost:8080/"
        },
        "outputId": "9882f106-061d-4b3a-b545-d5840e09bb85"
      },
      "source": [
        "# Example 1\n",
        "# We use the append() item to add an element to a list as shown below:\n",
        "# Adding the city Nakuru to the kenyan_cities list \n",
        "#\n",
        "kenyan_cities.append(\"Nakuru\")\n",
        "print(kenyan_cities)"
      ],
      "execution_count": 8,
      "outputs": [
        {
          "output_type": "stream",
          "text": [
            "['Nairobi', 'Mombasa', 'Kisumu', 'Nakuru']\n"
          ],
          "name": "stdout"
        }
      ]
    },
    {
      "cell_type": "code",
      "metadata": {
        "id": "Ut93O1NQ0UNa",
        "colab": {
          "base_uri": "https://localhost:8080/"
        },
        "outputId": "621f40f2-7abf-48bc-bfd5-4bd9b0b1aaa6"
      },
      "source": [
        "# Example 2\n",
        "# We add the county Turkana to our counties list \n",
        "# and print out the list as shown below;\n",
        "#\n",
        "counties.append(\"Turkana\")\n",
        "print(counties)"
      ],
      "execution_count": 9,
      "outputs": [
        {
          "output_type": "stream",
          "text": [
            "['Kisumu', 'Kakamega', 'Kisii', 'Turkana']\n"
          ],
          "name": "stdout"
        }
      ]
    },
    {
      "cell_type": "code",
      "metadata": {
        "id": "b9OWSkyh0T-N",
        "colab": {
          "base_uri": "https://localhost:8080/"
        },
        "outputId": "b7afcda7-f86a-45d0-892c-ed6444e84834"
      },
      "source": [
        "# Example 3\n",
        "# Let's add the footballer Francis Kahata to the \n",
        "# kenyan_football_players list defined above and print out the list\n",
        "#\n",
        "kenyan_football_players.append(\"Francis Kahata\")\n",
        "print(kenyan_football_players)"
      ],
      "execution_count": 10,
      "outputs": [
        {
          "output_type": "stream",
          "text": [
            "['Victor Wanyama', 'Michael Olunga', 'McDonald Mariga', 'Francis Kahata']\n"
          ],
          "name": "stdout"
        }
      ]
    },
    {
      "cell_type": "markdown",
      "metadata": {
        "id": "qAB7efGz8GL9"
      },
      "source": [
        "### <font color=\"green\">1.2 Challenges</font>"
      ]
    },
    {
      "cell_type": "code",
      "metadata": {
        "id": "wG25-7Hp8FaS",
        "colab": {
          "base_uri": "https://localhost:8080/"
        },
        "outputId": "3d32fe8b-1b00-4a14-c5fb-46765d813240"
      },
      "source": [
        "# Challenge 1: Add a third county to the county list \n",
        "# that you defined above and then print out the list.\n",
        "# \n",
        "counties.append(\"Mombasa\")\n",
        "print(counties)"
      ],
      "execution_count": 11,
      "outputs": [
        {
          "output_type": "stream",
          "text": [
            "['Kisumu', 'Kakamega', 'Kisii', 'Turkana', 'Mombasa']\n"
          ],
          "name": "stdout"
        }
      ]
    },
    {
      "cell_type": "code",
      "metadata": {
        "id": "viPcTuNQ8Kmf",
        "colab": {
          "base_uri": "https://localhost:8080/"
        },
        "outputId": "c659a29d-e3f3-421b-d59c-8da049bed31d"
      },
      "source": [
        "# Challenge 2: \n",
        "# Add a fifth and a sixth president to the african presidents \n",
        "# you defined above and print out the list.\n",
        "#\n",
        "African_presidents.append(\"George Weah\") \n",
        "African_presidents.append(\"Peter Mutharika\")\n",
        "print(African_presidents)"
      ],
      "execution_count": 12,
      "outputs": [
        {
          "output_type": "stream",
          "text": [
            "['Uhuru Kenyatta', 'Yoweri Museveni', 'Paul Biya', 'Joseph Kabila', 'Adama Barrow', 'George Weah', 'Peter Mutharika']\n"
          ],
          "name": "stdout"
        }
      ]
    },
    {
      "cell_type": "code",
      "metadata": {
        "colab": {
          "base_uri": "https://localhost:8080/"
        },
        "id": "5Hm94NvuLg5Z",
        "outputId": "30da5959-4dcb-45a3-8cd3-30fe23ef41f1"
      },
      "source": [
        "# Challenge 3: \n",
        "# Add two more members to the moringa class list that \n",
        "# you defined above and print out the list.\n",
        "#\n",
        "Moringa_class.append(\"Victoria Ondieki\")\n",
        "Moringa_class.append(\"Esther Nyabuto\")\n",
        "print(Moringa_class)"
      ],
      "execution_count": 13,
      "outputs": [
        {
          "output_type": "stream",
          "text": [
            "['Natasha Gwena', 'Claire Maina', 'Angelo Sang', 'Kipsang Mutai', 'Nigel Matalanga', 'Victoria Ondieki', 'Esther Nyabuto']\n"
          ],
          "name": "stdout"
        }
      ]
    },
    {
      "cell_type": "markdown",
      "metadata": {
        "id": "p4UR_FuR5qLx"
      },
      "source": [
        "## 1.3 Updating Elements in a List"
      ]
    },
    {
      "cell_type": "code",
      "metadata": {
        "id": "sOjwAQdu7q9Y",
        "colab": {
          "base_uri": "https://localhost:8080/"
        },
        "outputId": "1d2d68a6-5a5a-4647-a6e3-5bc3c64461d1"
      },
      "source": [
        "# Example 1\n",
        "# The value of a specific item in a list can be changed by referring to the index number as shown;\n",
        "# Let's update the first element in the kenyan_cities list then print it out\n",
        "# \n",
        "kenyan_cities[1] = \"Kwale\"\n",
        "print(kenyan_cities)"
      ],
      "execution_count": 14,
      "outputs": [
        {
          "output_type": "stream",
          "text": [
            "['Nairobi', 'Kwale', 'Kisumu', 'Nakuru']\n"
          ],
          "name": "stdout"
        }
      ]
    },
    {
      "cell_type": "code",
      "metadata": {
        "id": "TA8RhFajBl-P",
        "colab": {
          "base_uri": "https://localhost:8080/"
        },
        "outputId": "2bc90022-ce2d-4108-bfc8-a40f746af30c"
      },
      "source": [
        "# Example 2\n",
        "# Let's update the second element in the kenyan_football_players \n",
        "# list with Musa Mohammed then print out the list\n",
        "#\n",
        "kenyan_football_players[2] = \"Musa Mohammed\"\n",
        "print(kenyan_football_players)"
      ],
      "execution_count": 15,
      "outputs": [
        {
          "output_type": "stream",
          "text": [
            "['Victor Wanyama', 'Michael Olunga', 'Musa Mohammed', 'Francis Kahata']\n"
          ],
          "name": "stdout"
        }
      ]
    },
    {
      "cell_type": "code",
      "metadata": {
        "id": "7OfX19kCBl1b",
        "colab": {
          "base_uri": "https://localhost:8080/"
        },
        "outputId": "94d80e49-b72e-45ee-8d91-27580ddb611e"
      },
      "source": [
        "# Example 3\n",
        "# Let's update the third element in the moringa \n",
        "# class list with your name then print out the list\n",
        "# \n",
        "Moringa_class[3] = \"Joan Haron\"\n",
        "print(Moringa_class)"
      ],
      "execution_count": 16,
      "outputs": [
        {
          "output_type": "stream",
          "text": [
            "['Natasha Gwena', 'Claire Maina', 'Angelo Sang', 'Joan Haron', 'Nigel Matalanga', 'Victoria Ondieki', 'Esther Nyabuto']\n"
          ],
          "name": "stdout"
        }
      ]
    },
    {
      "cell_type": "markdown",
      "metadata": {
        "id": "H3Z5_lcs8XNH"
      },
      "source": [
        "### <font color=\"green\">1.3 Challenges</font>"
      ]
    },
    {
      "cell_type": "code",
      "metadata": {
        "id": "dVQ1NNCm8QSb",
        "colab": {
          "base_uri": "https://localhost:8080/"
        },
        "outputId": "2875ae95-481f-49b8-cdb7-29a360c4319a"
      },
      "source": [
        "# Challenge 1\n",
        "# Update the second county to the county list that \n",
        "# you defined above and then print out the list.\n",
        "# (NB: Update of choice)\n",
        "#\n",
        "counties[2] = \"Kilifi\"\n",
        "print(counties)"
      ],
      "execution_count": 19,
      "outputs": [
        {
          "output_type": "stream",
          "text": [
            "['Kisumu', 'Kakamega', 'Kilifi', 'Turkana', 'Mombasa']\n"
          ],
          "name": "stdout"
        }
      ]
    },
    {
      "cell_type": "code",
      "metadata": {
        "id": "FhFJuVjq8Ros",
        "colab": {
          "base_uri": "https://localhost:8080/"
        },
        "outputId": "a908a02c-cc3b-45a7-df00-9db582e02b78"
      },
      "source": [
        "# Challenge 2\n",
        "# Update the third and fourth president of the african presidents \n",
        "# list that you defined above and then print out the list.\n",
        "# (NB: Update of choice) \n",
        "#\n",
        "African_presidents [3:4] = [\"Hage Geingob\" , \"Paul Kagame\"]\n",
        " \n",
        "print(African_presidents)"
      ],
      "execution_count": 20,
      "outputs": [
        {
          "output_type": "stream",
          "text": [
            "['Uhuru Kenyatta', 'Yoweri Museveni', 'Paul Biya', 'Hage Geingob', 'Paul Kagame', 'Paul Kagame', 'Adama Barrow', 'George Weah', 'Peter Mutharika']\n"
          ],
          "name": "stdout"
        }
      ]
    },
    {
      "cell_type": "code",
      "metadata": {
        "colab": {
          "base_uri": "https://localhost:8080/"
        },
        "id": "Ro4MfkfOnis6",
        "outputId": "66b1c012-7fbb-4724-9663-a4614e89fc43"
      },
      "source": [
        "Moringa_class[1:5] =\"Ian Gathumbi\" , \"Cyprian Nyakundi\" , \"Ronald Mosioma\" , \"Glendah Moraa\" , \"Glendah Moraa\"\n",
        "print(Moringa_class)"
      ],
      "execution_count": 21,
      "outputs": [
        {
          "output_type": "stream",
          "text": [
            "['Natasha Gwena', 'Ian Gathumbi', 'Cyprian Nyakundi', 'Ronald Mosioma', 'Glendah Moraa', 'Glendah Moraa', 'Victoria Ondieki', 'Esther Nyabuto']\n"
          ],
          "name": "stdout"
        }
      ]
    },
    {
      "cell_type": "code",
      "metadata": {
        "id": "lsUfPEmI8TYI",
        "colab": {
          "base_uri": "https://localhost:8080/"
        },
        "outputId": "31ef3395-edd5-4877-88d0-2b33385719d5"
      },
      "source": [
        "# Challenge 3\n",
        "# Update all items in your class list \n",
        "# that you defined above with a new list and then print out that list. \n",
        "# \n",
        "Moringa_class[1] = \"Ian Gathumbi\" \n",
        "Moringa_class[2] = \"Cyprian Nyakundi\"\n",
        "Moringa_class[3] = \"Ronald Mosioma\"\n",
        "Moringa_class[4] = \"Glendah Moraa\"\n",
        "Moringa_class[5] = \"Glendah Moraa\"\n",
        "print(Moringa_class)"
      ],
      "execution_count": null,
      "outputs": [
        {
          "output_type": "stream",
          "text": [
            "['Natasha Gwena', 'Ian Gathumbi', 'Cyprian Nyakundi', 'Ronald Mosioma', 'Glendah Moraa', 'Moreen Mugambi', 'Esther Nyabuto', 'Vicktoria Ondieki', 'Esther Nyabuto', 'Vicktoria Ondieki', 'Esther Nyabuto', 'Victoria Ondieki', 'Esther Nyabuto']\n"
          ],
          "name": "stdout"
        }
      ]
    },
    {
      "cell_type": "markdown",
      "metadata": {
        "id": "cCvsMHqK5fUn"
      },
      "source": [
        "## 1.4 Accessing Elements from a List"
      ]
    },
    {
      "cell_type": "code",
      "metadata": {
        "id": "pGn2Ei-L8lh4",
        "colab": {
          "base_uri": "https://localhost:8080/"
        },
        "outputId": "fae45533-5257-4732-9571-f0215ff412e2"
      },
      "source": [
        "# Example 1\n",
        "# We can access the first item in the fruits list by doing the following\n",
        "# \n",
        "fruts_first_item = fruits[0]\n",
        "print(fruts_first_item)"
      ],
      "execution_count": null,
      "outputs": [
        {
          "output_type": "stream",
          "text": [
            "bananas\n"
          ],
          "name": "stdout"
        }
      ]
    },
    {
      "cell_type": "code",
      "metadata": {
        "id": "iTvwuuY219PO",
        "colab": {
          "base_uri": "https://localhost:8080/"
        },
        "outputId": "e9e77d1e-c190-4363-dd4f-afedf15bc1c8"
      },
      "source": [
        "# Example 2\n",
        "# We can also access the 2nd item in the kenyan_football_players list by;\n",
        "#\n",
        "kenyan_football_players_second_item = kenyan_football_players[1]\n",
        "print(kenyan_football_players_second_item)"
      ],
      "execution_count": null,
      "outputs": [
        {
          "output_type": "stream",
          "text": [
            "Michael Olunga\n"
          ],
          "name": "stdout"
        }
      ]
    },
    {
      "cell_type": "code",
      "metadata": {
        "id": "lVAhEI_G2IAN",
        "colab": {
          "base_uri": "https://localhost:8080/"
        },
        "outputId": "a0b0f954-461b-49f1-e11f-608419615ecc"
      },
      "source": [
        "# Example 3\n",
        "# We can access the third item in the moringa_class list also by\n",
        "#\n",
        "kenya_football_players_second_item = kenyan_football_players[2]\n",
        "print(kenya_football_players_second_item)"
      ],
      "execution_count": null,
      "outputs": [
        {
          "output_type": "stream",
          "text": [
            "Musa Mohammed\n"
          ],
          "name": "stdout"
        }
      ]
    },
    {
      "cell_type": "markdown",
      "metadata": {
        "id": "1qG1ecRh8mC9"
      },
      "source": [
        "### <font color=\"green\">1.4 Challenges</font>"
      ]
    },
    {
      "cell_type": "code",
      "metadata": {
        "id": "JVE1OqDH8pEK",
        "colab": {
          "base_uri": "https://localhost:8080/"
        },
        "outputId": "afb8fd8c-484b-47ce-aac1-125e3b6bc0bf"
      },
      "source": [
        "# Challenge 1\n",
        "# Let's access the second item in the fruits list below\n",
        "#\n",
        "fruits_second_item = fruits[1]\n",
        "print(fruits_second_item)"
      ],
      "execution_count": null,
      "outputs": [
        {
          "output_type": "stream",
          "text": [
            "grapes\n"
          ],
          "name": "stdout"
        }
      ]
    },
    {
      "cell_type": "code",
      "metadata": {
        "id": "Caul6cU18o9c",
        "colab": {
          "base_uri": "https://localhost:8080/"
        },
        "outputId": "17e5f682-08bc-4609-c00e-b8323450017b"
      },
      "source": [
        "# Challenge 2\n",
        "# Let's access the fourth item in kenyan_football_players list below\n",
        "#\n",
        "kenyan_football_players_fourth_item = kenyan_football_players[3]\n",
        "print(kenyan_football_players_fourth_item)"
      ],
      "execution_count": null,
      "outputs": [
        {
          "output_type": "stream",
          "text": [
            "Francis Kahata\n"
          ],
          "name": "stdout"
        }
      ]
    },
    {
      "cell_type": "code",
      "metadata": {
        "id": "xjX0moYs8ooP",
        "colab": {
          "base_uri": "https://localhost:8080/"
        },
        "outputId": "3c35af23-b4cd-40e0-ae03-30787a40ecd8"
      },
      "source": [
        "# Challenge 3\n",
        "# Let's access the first item in your class list below;\n",
        "#\n",
        "Moringa_class_first_item = Moringa_class[0]\n",
        "print(Moringa_class_first_item)"
      ],
      "execution_count": null,
      "outputs": [
        {
          "output_type": "stream",
          "text": [
            "Natasha Gwena\n"
          ],
          "name": "stdout"
        }
      ]
    },
    {
      "cell_type": "markdown",
      "metadata": {
        "id": "Fs8XTeN45iFS"
      },
      "source": [
        "## 1.5 Removing Elements from a List"
      ]
    },
    {
      "cell_type": "code",
      "metadata": {
        "id": "mkNRpT2k8zbi",
        "colab": {
          "base_uri": "https://localhost:8080/"
        },
        "outputId": "874dfe6c-307a-41ec-9106-9126b6a7c015"
      },
      "source": [
        "# Example 1\n",
        "# Let's remove the first item from the fruits list as shown;\n",
        "#\n",
        "fruits.remove(\"bananas\")\n",
        "print(fruits)\n"
      ],
      "execution_count": null,
      "outputs": [
        {
          "output_type": "stream",
          "text": [
            "['grapes', 'mangoes']\n"
          ],
          "name": "stdout"
        }
      ]
    },
    {
      "cell_type": "code",
      "metadata": {
        "id": "9EF5YrosFV5n",
        "colab": {
          "base_uri": "https://localhost:8080/"
        },
        "outputId": "9acf6471-fff9-4d80-ef87-2d21a89a47d9"
      },
      "source": [
        "# Example 2\n",
        "# Then remove the third item from the kenyan cities list as shown;\n",
        "#\n",
        "del kenyan_cities[2];\n",
        "print(kenyan_cities)"
      ],
      "execution_count": null,
      "outputs": [
        {
          "output_type": "stream",
          "text": [
            "['Nairobi', 'Kwale', 'Nakuru']\n"
          ],
          "name": "stdout"
        }
      ]
    },
    {
      "cell_type": "code",
      "metadata": {
        "id": "-zwxINb9FVvE",
        "colab": {
          "base_uri": "https://localhost:8080/"
        },
        "outputId": "22e0860b-1535-4d9f-d031-a9a8f6e5a400"
      },
      "source": [
        "# Example 3\n",
        "# Let's remove the fourth item from counties list as shown;\n",
        "#\n",
        "del counties[5]\n",
        "print(counties)"
      ],
      "execution_count": null,
      "outputs": [
        {
          "output_type": "stream",
          "text": [
            "['Kisumu', 'Kakamega', 'Kilifi', 'Turkana', 'Turkana', 'Mombasa']\n"
          ],
          "name": "stdout"
        }
      ]
    },
    {
      "cell_type": "markdown",
      "metadata": {
        "id": "SJmtZJu48z-Q"
      },
      "source": [
        "### <font color=\"green\">1.5 Challenges</font>"
      ]
    },
    {
      "cell_type": "code",
      "metadata": {
        "id": "d1AxSTu883KJ",
        "colab": {
          "base_uri": "https://localhost:8080/"
        },
        "outputId": "fb731835-5a43-4c8e-9081-8d997c70358f"
      },
      "source": [
        "# Challenge 1 \n",
        "# Remove the first item from the kenya_football_players list \n",
        "# and print the list\n",
        "#\n",
        "del kenyan_football_players[0]\n",
        "print(kenyan_football_players)"
      ],
      "execution_count": null,
      "outputs": [
        {
          "output_type": "stream",
          "text": [
            "['Michael Olunga', 'Musa Mohammed', 'Francis Kahata']\n"
          ],
          "name": "stdout"
        }
      ]
    },
    {
      "cell_type": "code",
      "metadata": {
        "id": "s7iTn8tf83kI",
        "colab": {
          "base_uri": "https://localhost:8080/",
          "height": 215
        },
        "outputId": "10c85e46-beb3-43e1-fb0d-e99814eade84"
      },
      "source": [
        "# Challenge 2\n",
        "# Remove the second item from the fruits list and print the list\n",
        "#\n",
        "del fruits[3]\n",
        "print(fruits)"
      ],
      "execution_count": null,
      "outputs": [
        {
          "output_type": "error",
          "ename": "IndexError",
          "evalue": "ignored",
          "traceback": [
            "\u001b[0;31m---------------------------------------------------------------------------\u001b[0m",
            "\u001b[0;31mIndexError\u001b[0m                                Traceback (most recent call last)",
            "\u001b[0;32m<ipython-input-50-60f85b925f4a>\u001b[0m in \u001b[0;36m<module>\u001b[0;34m()\u001b[0m\n\u001b[1;32m      2\u001b[0m \u001b[0;31m# Remove the second item from the fruits list and print the list\u001b[0m\u001b[0;34m\u001b[0m\u001b[0;34m\u001b[0m\u001b[0;34m\u001b[0m\u001b[0m\n\u001b[1;32m      3\u001b[0m \u001b[0;31m#\u001b[0m\u001b[0;34m\u001b[0m\u001b[0;34m\u001b[0m\u001b[0;34m\u001b[0m\u001b[0m\n\u001b[0;32m----> 4\u001b[0;31m \u001b[0;32mdel\u001b[0m \u001b[0mfruits\u001b[0m\u001b[0;34m[\u001b[0m\u001b[0;36m2\u001b[0m\u001b[0;34m]\u001b[0m\u001b[0;34m\u001b[0m\u001b[0;34m\u001b[0m\u001b[0m\n\u001b[0m\u001b[1;32m      5\u001b[0m \u001b[0mprint\u001b[0m\u001b[0;34m(\u001b[0m\u001b[0mfruits\u001b[0m\u001b[0;34m)\u001b[0m\u001b[0;34m\u001b[0m\u001b[0;34m\u001b[0m\u001b[0m\n",
            "\u001b[0;31mIndexError\u001b[0m: list assignment index out of range"
          ]
        }
      ]
    },
    {
      "cell_type": "code",
      "metadata": {
        "id": "EpEg6eWS83c4",
        "colab": {
          "base_uri": "https://localhost:8080/"
        },
        "outputId": "dedcda2e-ae03-46fb-de79-ff6e14d4b961"
      },
      "source": [
        "# Challenge 3 \n",
        "# Remove the last item from the african presidents list and print the list\n",
        "#\n",
        "African_presidents.remove (\"Paul Kagame\")\n",
        "print(African_presidents)"
      ],
      "execution_count": null,
      "outputs": [
        {
          "output_type": "stream",
          "text": [
            "['Uhuru Kenyatta', 'Yoweri Museveni', 'Paul Biya', 'Hage Geingob', 'George Weah', 'George Weah', 'George Weah', 'George Weah', 'George Weah', 'Peter Mutharika']\n"
          ],
          "name": "stdout"
        }
      ]
    },
    {
      "cell_type": "markdown",
      "metadata": {
        "id": "QIPUN0KJ5mdp"
      },
      "source": [
        "## 1.6 Slicing a List"
      ]
    },
    {
      "cell_type": "code",
      "metadata": {
        "id": "mX4ZZyjM89tX",
        "colab": {
          "base_uri": "https://localhost:8080/"
        },
        "outputId": "81c06630-8d0e-49ee-8930-126c5ab556a5"
      },
      "source": [
        "# Example 1\n",
        "# We can print the first two item of the fruits list by slicing and printing them as shown;\n",
        "# The syntax for slicing is start:stop\n",
        "# Start is the index at which we want to start our slice.\n",
        "# Stop is the index at which we want to stop just before finishing the slice. The slicing stops at index stop-1. For exampl, if stop is 2, then the slicing will stop at index (2-1)\n",
        "# \n",
        "fruits = [\"bananas\", \"grapes\", \"mangoes\",\"oranges\",\"pineapple\"]\n",
        "fruits1 = fruits[0:3] \n",
        "print(fruits1)\n",
        "\n"
      ],
      "execution_count": null,
      "outputs": [
        {
          "output_type": "stream",
          "text": [
            "['bananas', 'grapes', 'mangoes']\n"
          ],
          "name": "stdout"
        }
      ]
    },
    {
      "cell_type": "code",
      "metadata": {
        "id": "HjMaEseYKTG_",
        "colab": {
          "base_uri": "https://localhost:8080/"
        },
        "outputId": "9ee177b2-6e82-49bb-cf91-19022e77642d"
      },
      "source": [
        "# Example 2\n",
        "# We can print the items from the 2nd item till the end by slicing and printing them as shown;\n",
        "# \n",
        "fruits2 = fruits[2:]\n",
        "print(fruits2)"
      ],
      "execution_count": null,
      "outputs": [
        {
          "output_type": "stream",
          "text": [
            "['mangoes', 'oranges', 'pineapple']\n"
          ],
          "name": "stdout"
        }
      ]
    },
    {
      "cell_type": "code",
      "metadata": {
        "id": "Vx32wP6_KS8E",
        "colab": {
          "base_uri": "https://localhost:8080/"
        },
        "outputId": "deea6ae0-c309-437c-bd2a-dfe9a0536074"
      },
      "source": [
        "# Example 3\n",
        "# We can print items from beginning of the list to the third element in the fruits list as shown;\n",
        "#\n",
        "fruits3 = fruits[:-2]\n",
        "print(fruits3)"
      ],
      "execution_count": null,
      "outputs": [
        {
          "output_type": "stream",
          "text": [
            "['bananas', 'grapes', 'mangoes']\n"
          ],
          "name": "stdout"
        }
      ]
    },
    {
      "cell_type": "markdown",
      "metadata": {
        "id": "5WwBTWk58-Nj"
      },
      "source": [
        "### <font color=\"green\">1.6 Challenges</font>"
      ]
    },
    {
      "cell_type": "code",
      "metadata": {
        "id": "aBfzUTyF9BSb",
        "colab": {
          "base_uri": "https://localhost:8080/"
        },
        "outputId": "ebbc6a51-6280-43a8-f5cc-b3081637524a"
      },
      "source": [
        "# Challenge 1 \n",
        "# Print the first two items of the kenyan_football_players list\n",
        "# \n",
        "kenyan_football_players_1 = kenyan_football_players[0:2]\n",
        "print(kenyan_football_players_1)"
      ],
      "execution_count": null,
      "outputs": [
        {
          "output_type": "stream",
          "text": [
            "['Michael Olunga', 'Musa Mohammed']\n"
          ],
          "name": "stdout"
        }
      ]
    },
    {
      "cell_type": "code",
      "metadata": {
        "id": "Lrq8KFE49Bq5",
        "colab": {
          "base_uri": "https://localhost:8080/"
        },
        "outputId": "6ee7774c-4ed1-4a7b-a12b-203444d368ea"
      },
      "source": [
        "# Challenge 2 \n",
        "# Print the last two items of the counties list\n",
        "# \n",
        "counties1 = counties[-2:]\n",
        "print(counties1)"
      ],
      "execution_count": null,
      "outputs": [
        {
          "output_type": "stream",
          "text": [
            "['Turkana', 'Mombasa']\n"
          ],
          "name": "stdout"
        }
      ]
    },
    {
      "cell_type": "code",
      "metadata": {
        "id": "Smtu0V519Bke",
        "colab": {
          "base_uri": "https://localhost:8080/"
        },
        "outputId": "1687aa2c-79fb-44ba-9a46-579c1ec06e75"
      },
      "source": [
        "# Challenge 3 \n",
        "# Print items fron the beginning to the second items in the kenyan_cities list\n",
        "# \n",
        "kenyan_cities1 = kenyan_cities[0:2]\n",
        "print(kenyan_cities1)"
      ],
      "execution_count": null,
      "outputs": [
        {
          "output_type": "stream",
          "text": [
            "['Nairobi', 'Kwale']\n"
          ],
          "name": "stdout"
        }
      ]
    }
  ]
}